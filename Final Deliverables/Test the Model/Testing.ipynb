{
 "cells": [
  {
   "cell_type": "markdown",
   "id": "e6f2cc85",
   "metadata": {},
   "source": [
    "## Testing Model"
   ]
  },
  {
   "cell_type": "code",
   "execution_count": 6,
   "id": "cedf6a6c",
   "metadata": {},
   "outputs": [],
   "source": [
    "from keras.preprocessing.image import ImageDataGenerator"
   ]
  },
  {
   "cell_type": "code",
   "execution_count": 7,
   "id": "beeceac7",
   "metadata": {},
   "outputs": [],
   "source": [
    "train_datagen = ImageDataGenerator(rescale = 1./255, shear_range=0.2, zoom_range=0.2, horizontal_flip = True)"
   ]
  },
  {
   "cell_type": "code",
   "execution_count": 8,
   "id": "a1399b7c",
   "metadata": {},
   "outputs": [],
   "source": [
    "test_datagen = ImageDataGenerator(rescale = 1./255)"
   ]
  },
  {
   "cell_type": "code",
   "execution_count": 9,
   "id": "9f3c1673",
   "metadata": {
    "scrolled": true
   },
   "outputs": [
    {
     "name": "stdout",
     "output_type": "stream",
     "text": [
      "Found 15750 images belonging to 9 classes.\n"
     ]
    }
   ],
   "source": [
    "x_train= train_datagen.flow_from_directory('dataset/training_set', target_size=(64,64), batch_size=300,class_mode='categorical', color_mode = \"grayscale\")"
   ]
  },
  {
   "cell_type": "code",
   "execution_count": 10,
   "id": "5ca1d422",
   "metadata": {
    "scrolled": true
   },
   "outputs": [
    {
     "name": "stdout",
     "output_type": "stream",
     "text": [
      "Found 2250 images belonging to 9 classes.\n"
     ]
    }
   ],
   "source": [
    "x_test= test_datagen.flow_from_directory('dataset/test_set', target_size=(64,64), batch_size=300,class_mode='categorical', color_mode = \"grayscale\")"
   ]
  },
  {
   "cell_type": "code",
   "execution_count": 11,
   "id": "31433689",
   "metadata": {},
   "outputs": [],
   "source": [
    "from keras.models import Sequential"
   ]
  },
  {
   "cell_type": "code",
   "execution_count": 12,
   "id": "029d6adc",
   "metadata": {},
   "outputs": [],
   "source": [
    "from keras.layers import Dense"
   ]
  },
  {
   "cell_type": "code",
   "execution_count": 13,
   "id": "d17a9426",
   "metadata": {},
   "outputs": [],
   "source": [
    "from keras.layers import Convolution2D"
   ]
  },
  {
   "cell_type": "code",
   "execution_count": 14,
   "id": "f8963bf4",
   "metadata": {},
   "outputs": [],
   "source": [
    "from keras.layers import MaxPooling2D"
   ]
  },
  {
   "cell_type": "code",
   "execution_count": 15,
   "id": "51d9b811",
   "metadata": {},
   "outputs": [],
   "source": [
    "from keras.layers import Dropout"
   ]
  },
  {
   "cell_type": "code",
   "execution_count": 16,
   "id": "3a9dc902",
   "metadata": {},
   "outputs": [],
   "source": [
    "from keras.layers import Flatten"
   ]
  },
  {
   "cell_type": "code",
   "execution_count": 17,
   "id": "35629fe4",
   "metadata": {},
   "outputs": [],
   "source": [
    "model=Sequential()"
   ]
  },
  {
   "cell_type": "code",
   "execution_count": 18,
   "id": "8d83ddc3",
   "metadata": {},
   "outputs": [],
   "source": [
    "model.add(Convolution2D(32, (3,3), input_shape=(64,64,1), activation = 'relu'))\n",
    "#no. of feature detectors, size of featuredetector, image size, activation function"
   ]
  },
  {
   "cell_type": "code",
   "execution_count": 19,
   "id": "b70c33a2",
   "metadata": {},
   "outputs": [],
   "source": [
    "model.add(MaxPooling2D(pool_size=(2,2)))"
   ]
  },
  {
   "cell_type": "code",
   "execution_count": 20,
   "id": "415de967",
   "metadata": {},
   "outputs": [],
   "source": [
    "model.add(Flatten())"
   ]
  },
  {
   "cell_type": "code",
   "execution_count": 21,
   "id": "7766918a",
   "metadata": {},
   "outputs": [],
   "source": [
    "model.add(Dense(units=512, activation='relu'))"
   ]
  },
  {
   "cell_type": "code",
   "execution_count": 22,
   "id": "ca526f42",
   "metadata": {},
   "outputs": [],
   "source": [
    "model.add(Dense(units=9, activation='softmax'))"
   ]
  },
  {
   "cell_type": "code",
   "execution_count": 23,
   "id": "ba376ec0",
   "metadata": {},
   "outputs": [],
   "source": [
    "model.compile(loss='categorical_crossentropy', optimizer='adam', metrics=['accuracy'])"
   ]
  },
  {
   "cell_type": "code",
   "execution_count": 25,
   "id": "511fcd0c",
   "metadata": {
    "scrolled": true
   },
   "outputs": [
    {
     "name": "stderr",
     "output_type": "stream",
     "text": [
      "C:\\Users\\Renu Alwar\\AppData\\Local\\Temp\\ipykernel_1552\\1124240008.py:1: UserWarning: `Model.fit_generator` is deprecated and will be removed in a future version. Please use `Model.fit`, which supports generators.\n",
      "  model.fit_generator(x_train, steps_per_epoch=24, epochs=10, validation_data=x_test, validation_steps=40)\n"
     ]
    },
    {
     "name": "stdout",
     "output_type": "stream",
     "text": [
      "Epoch 1/10\n",
      "24/24 [==============================] - ETA: 0s - loss: 0.0121 - accuracy: 0.9976WARNING:tensorflow:Your input ran out of data; interrupting training. Make sure that your dataset or generator can generate at least `steps_per_epoch * epochs` batches (in this case, 40 batches). You may need to use the repeat() function when building your dataset.\n",
      "24/24 [==============================] - 27s 1s/step - loss: 0.0121 - accuracy: 0.9976 - val_loss: 0.1947 - val_accuracy: 0.9756\n",
      "Epoch 2/10\n",
      "24/24 [==============================] - 19s 784ms/step - loss: 0.0093 - accuracy: 0.9983\n",
      "Epoch 3/10\n",
      "24/24 [==============================] - 17s 698ms/step - loss: 0.0094 - accuracy: 0.9980\n",
      "Epoch 4/10\n",
      "24/24 [==============================] - 14s 561ms/step - loss: 0.0049 - accuracy: 0.9993\n",
      "Epoch 5/10\n",
      "24/24 [==============================] - 12s 476ms/step - loss: 0.0083 - accuracy: 0.9982\n",
      "Epoch 6/10\n",
      "24/24 [==============================] - 11s 466ms/step - loss: 0.0052 - accuracy: 0.9987\n",
      "Epoch 7/10\n",
      "24/24 [==============================] - 11s 452ms/step - loss: 0.0035 - accuracy: 0.9994\n",
      "Epoch 8/10\n",
      "24/24 [==============================] - 10s 423ms/step - loss: 0.0041 - accuracy: 0.9993\n",
      "Epoch 9/10\n",
      "24/24 [==============================] - 10s 430ms/step - loss: 0.0029 - accuracy: 1.0000\n",
      "Epoch 10/10\n",
      "24/24 [==============================] - 11s 452ms/step - loss: 0.0022 - accuracy: 0.9999\n"
     ]
    },
    {
     "data": {
      "text/plain": [
       "<keras.callbacks.History at 0x1cc00135e50>"
      ]
     },
     "execution_count": 25,
     "metadata": {},
     "output_type": "execute_result"
    }
   ],
   "source": [
    "model.fit_generator(x_train, steps_per_epoch=24, epochs=10, validation_data=x_test, validation_steps=40)\n",
    "#steps_per_epoch = no. of train images//batch size"
   ]
  },
  {
   "cell_type": "code",
   "execution_count": 64,
   "id": "20260ab8",
   "metadata": {
    "scrolled": true
   },
   "outputs": [
    {
     "name": "stdout",
     "output_type": "stream",
     "text": [
      "[[0.10409457 0.11796871 0.09888812 0.10719631 0.13776585 0.10792505\n",
      "  0.11153119 0.11200681 0.10262337]]\n",
      "[4]\n"
     ]
    },
    {
     "name": "stderr",
     "output_type": "stream",
     "text": [
      "C:\\anaconda\\lib\\site-packages\\keras\\engine\\training_v1.py:2356: UserWarning: `Model.state_updates` will be removed in a future version. This property should not be used in TensorFlow 2.0, as `updates` are applied automatically.\n",
      "  updates=self.state_updates,\n"
     ]
    }
   ],
   "source": [
    "from skimage.transform import resize\n",
    "from numpy import *\n",
    "from keras.models import load_model\n",
    "import numpy as np\n",
    "import cv2\n",
    "\n",
    "def detect(frame):\n",
    "        \n",
    "        model=load_model('aslpng1.h5')\n",
    "        model.save('aslpng1.h5')\n",
    "        img = resize(frame,(64,64,1))\n",
    "        img = np.expand_dims(img,axis=0) \n",
    "        if(np.max(img)>1):\n",
    "            img = img/255.0\n",
    "        prediction = model.predict(img)\n",
    "        print(prediction)\n",
    "#         prediction = (model.predict_classes(img))\n",
    "        predict_x=model.predict(img) \n",
    "        classes_x=np.argmax(predict_x,axis=1)\n",
    "        print(classes_x)\n",
    "frame = cv2.imread(r\"C:\\Users\\Renu Alwar\\Project\\dataset\\test_set\\I\\1.png\")\n",
    "data = detect(frame)"
   ]
  },
  {
   "cell_type": "code",
   "execution_count": null,
   "id": "52481011",
   "metadata": {},
   "outputs": [
    {
     "name": "stderr",
     "output_type": "stream",
     "text": [
      "C:\\anaconda\\lib\\site-packages\\scipy\\__init__.py:146: UserWarning: A NumPy version >=1.16.5 and <1.23.0 is required for this version of SciPy (detected version 1.23.4\n",
      "  warnings.warn(f\"A NumPy version >={np_minversion} and <{np_maxversion}\"\n"
     ]
    },
    {
     "name": "stdout",
     "output_type": "stream",
     "text": [
      "[INFO] accessing video stream...\n",
      " * Serving Flask app \"__main__\" (lazy loading)\n",
      " * Environment: production\n",
      "\u001b[31m   WARNING: This is a development server. Do not use it in a production deployment.\u001b[0m\n",
      "\u001b[2m   Use a production WSGI server instead.\u001b[0m\n",
      " * Debug mode: on\n"
     ]
    },
    {
     "name": "stderr",
     "output_type": "stream",
     "text": [
      " * Running on all addresses.\n",
      "   WARNING: This is a development server. Do not use it in a production deployment.\n",
      " * Running on http://192.168.29.183:5000/ (Press CTRL+C to quit)\n",
      "192.168.29.183 - - [17/Nov/2022 21:48:43] \"GET / HTTP/1.1\" 200 -\n",
      "192.168.29.183 - - [17/Nov/2022 21:48:43] \"GET /favicon.ico HTTP/1.1\" 404 -\n"
     ]
    }
   ],
   "source": [
    "import numpy as np\n",
    "import cv2\n",
    "import os\n",
    "from keras.models import load_model\n",
    "from flask import Flask, render_template, Response\n",
    "from tensorflow.keras.models import Sequential\n",
    "import tensorflow as tf\n",
    "from gtts import gTTS\n",
    "global graph\n",
    "global writer\n",
    "from skimage.transform import resize\n",
    "\n",
    "# graph=tf.get_default_graph()\n",
    "graph= tf.compat.v1.get_default_graph()\n",
    "writer = None\n",
    "model = load_model('aslpng1.h5')\n",
    "vals = ['A', 'B', 'C', 'D', 'E', 'F', 'G', 'H', 'I']\n",
    "app = Flask(__name__)\n",
    "\n",
    "# tf.compat.v1.disable_eager_execution()\n",
    "# print(tf.compat.v1.get_default_graph())\n",
    "\n",
    "print(\"[INFO] accessing video stream...\")\n",
    "vs = cv2.VideoCapture(0)\n",
    "pred = \"\"\n",
    "@app.route('/')\n",
    "def index():\n",
    "    return render_template('index.html')\n",
    "\n",
    "def detect(frame):\n",
    "    img = resize(frame,(64,64,1))\n",
    "    img = np.expand_dims(img,axis=0)\n",
    "    if(np.max(img)>1):\n",
    "        img = img/255.0\n",
    "    with graph.as_default():\n",
    "            prediction = model.predict_classes(img)\n",
    "    print(prediction)\n",
    "    pred=vals[prediction[0]]\n",
    "    print(pred)\n",
    "    return pred\n",
    "\n",
    "@app.route('/video feed')\n",
    "def video_feed():\n",
    "    return Response(gen(),\n",
    "                    mimetype='multipart/x-mixed-replace; boundary=frame')\n",
    "\n",
    "if __name__ == '__main__':\n",
    "    app.run(host='0.0.0.0', debug=True,use_reloader=False)\n",
    "    \n"
   ]
  },
  {
   "cell_type": "code",
   "execution_count": null,
   "id": "336432ee",
   "metadata": {},
   "outputs": [],
   "source": []
  }
 ],
 "metadata": {
  "kernelspec": {
   "display_name": "Python 3 (ipykernel)",
   "language": "python",
   "name": "python3"
  },
  "language_info": {
   "codemirror_mode": {
    "name": "ipython",
    "version": 3
   },
   "file_extension": ".py",
   "mimetype": "text/x-python",
   "name": "python",
   "nbconvert_exporter": "python",
   "pygments_lexer": "ipython3",
   "version": "3.9.12"
  }
 },
 "nbformat": 4,
 "nbformat_minor": 5
}
