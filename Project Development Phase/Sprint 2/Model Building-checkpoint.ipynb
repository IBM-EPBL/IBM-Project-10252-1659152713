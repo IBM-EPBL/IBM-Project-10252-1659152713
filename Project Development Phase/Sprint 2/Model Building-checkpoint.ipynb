{
 "cells": [
  {
   "cell_type": "code",
   "execution_count": 18,
   "id": "e3b82728",
   "metadata": {},
   "outputs": [],
   "source": [
    "from keras.preprocessing.image import ImageDataGenerator"
   ]
  },
  {
   "cell_type": "code",
   "execution_count": 19,
   "id": "358b3652",
   "metadata": {},
   "outputs": [],
   "source": [
    "train_datagen = ImageDataGenerator(rescale = 1./255, shear_range=0.2, zoom_range=0.2, horizontal_flip = True)"
   ]
  },
  {
   "cell_type": "code",
   "execution_count": 20,
   "id": "a425eea5",
   "metadata": {},
   "outputs": [],
   "source": [
    "test_datagen = ImageDataGenerator(rescale = 1./255)"
   ]
  },
  {
   "cell_type": "code",
   "execution_count": 21,
   "id": "ac96c099",
   "metadata": {},
   "outputs": [
    {
     "name": "stdout",
     "output_type": "stream",
     "text": [
      "Found 15750 images belonging to 9 classes.\n"
     ]
    }
   ],
   "source": [
    "x_train= train_datagen.flow_from_directory('dataset/training_set', target_size=(64,64), batch_size=300,class_mode='categorical', color_mode = \"grayscale\")"
   ]
  },
  {
   "cell_type": "code",
   "execution_count": 22,
   "id": "bb19d3b5",
   "metadata": {},
   "outputs": [
    {
     "name": "stdout",
     "output_type": "stream",
     "text": [
      "Found 2250 images belonging to 9 classes.\n"
     ]
    }
   ],
   "source": [
    "x_test= test_datagen.flow_from_directory('dataset/test_set', target_size=(64,64), batch_size=300,class_mode='categorical', color_mode = \"grayscale\")"
   ]
  },
  {
   "cell_type": "code",
   "execution_count": 23,
   "id": "10ef975a",
   "metadata": {},
   "outputs": [],
   "source": [
    "from keras.models import Sequential"
   ]
  },
  {
   "cell_type": "code",
   "execution_count": 24,
   "id": "c95ac5a5",
   "metadata": {},
   "outputs": [],
   "source": [
    "from keras.layers import Dense"
   ]
  },
  {
   "cell_type": "code",
   "execution_count": 25,
   "id": "23b0cf40",
   "metadata": {},
   "outputs": [],
   "source": [
    "from keras.layers import Convolution2D"
   ]
  },
  {
   "cell_type": "code",
   "execution_count": 26,
   "id": "00acb679",
   "metadata": {},
   "outputs": [],
   "source": [
    "from keras.layers import MaxPooling2D"
   ]
  },
  {
   "cell_type": "code",
   "execution_count": 27,
   "id": "41ca3ce1",
   "metadata": {},
   "outputs": [],
   "source": [
    "from keras.layers import Dropout"
   ]
  },
  {
   "cell_type": "code",
   "execution_count": 28,
   "id": "b3d6dc4c",
   "metadata": {},
   "outputs": [],
   "source": [
    "from keras.layers import Flatten"
   ]
  },
  {
   "cell_type": "code",
   "execution_count": 29,
   "id": "06f875da",
   "metadata": {},
   "outputs": [],
   "source": [
    "model=Sequential()"
   ]
  },
  {
   "cell_type": "code",
   "execution_count": 30,
   "id": "95a5bead",
   "metadata": {},
   "outputs": [],
   "source": [
    "model.add(Convolution2D(32, (3,3), input_shape=(64,64,1), activation = 'relu'))\n",
    "#no. of feature detectors, size of featuredetector, image size, activation function"
   ]
  },
  {
   "cell_type": "code",
   "execution_count": 31,
   "id": "17599d0a",
   "metadata": {},
   "outputs": [],
   "source": [
    "model.add(MaxPooling2D(pool_size=(2,2)))"
   ]
  },
  {
   "cell_type": "code",
   "execution_count": 32,
   "id": "547e0b7e",
   "metadata": {},
   "outputs": [],
   "source": [
    "model.add(Flatten())"
   ]
  },
  {
   "cell_type": "code",
   "execution_count": 33,
   "id": "89562a7e",
   "metadata": {},
   "outputs": [],
   "source": [
    "model.add(Dense(units=512, activation='relu'))"
   ]
  },
  {
   "cell_type": "code",
   "execution_count": 34,
   "id": "457e2907",
   "metadata": {},
   "outputs": [],
   "source": [
    "model.add(Dense(units=9, activation='softmax'))"
   ]
  },
  {
   "cell_type": "code",
   "execution_count": 35,
   "id": "d67e5233",
   "metadata": {},
   "outputs": [],
   "source": [
    "model.compile(loss='categorical_crossentropy', optimizer='adam', metrics=['accuracy'])"
   ]
  },
  {
   "cell_type": "code",
   "execution_count": 36,
   "id": "e277bbf1",
   "metadata": {},
   "outputs": [
    {
     "name": "stderr",
     "output_type": "stream",
     "text": [
      "C:\\Users\\Renu Alwar\\AppData\\Local\\Temp\\ipykernel_18464\\1124240008.py:1: UserWarning: `Model.fit_generator` is deprecated and will be removed in a future version. Please use `Model.fit`, which supports generators.\n",
      "  model.fit_generator(x_train, steps_per_epoch=24, epochs=10, validation_data=x_test, validation_steps=40)\n"
     ]
    },
    {
     "name": "stdout",
     "output_type": "stream",
     "text": [
      "Epoch 1/10\n",
      "24/24 [==============================] - ETA: 0s - loss: 0.7662 - accuracy: 0.7433WARNING:tensorflow:Your input ran out of data; interrupting training. Make sure that your dataset or generator can generate at least `steps_per_epoch * epochs` batches (in this case, 40 batches). You may need to use the repeat() function when building your dataset.\n",
      "24/24 [==============================] - 14s 551ms/step - loss: 0.7662 - accuracy: 0.7433 - val_loss: 0.2695 - val_accuracy: 0.9307\n",
      "Epoch 2/10\n",
      "24/24 [==============================] - 10s 429ms/step - loss: 0.1602 - accuracy: 0.9569\n",
      "Epoch 3/10\n",
      "24/24 [==============================] - 10s 422ms/step - loss: 0.0850 - accuracy: 0.9777\n",
      "Epoch 4/10\n",
      "24/24 [==============================] - 10s 428ms/step - loss: 0.0527 - accuracy: 0.9862\n",
      "Epoch 5/10\n",
      "24/24 [==============================] - 11s 440ms/step - loss: 0.0359 - accuracy: 0.9903\n",
      "Epoch 6/10\n",
      "24/24 [==============================] - 11s 448ms/step - loss: 0.0250 - accuracy: 0.9939\n",
      "Epoch 7/10\n",
      "24/24 [==============================] - 11s 434ms/step - loss: 0.0162 - accuracy: 0.9966\n",
      "Epoch 8/10\n",
      "24/24 [==============================] - 11s 437ms/step - loss: 0.0165 - accuracy: 0.9957\n",
      "Epoch 9/10\n",
      "24/24 [==============================] - 10s 426ms/step - loss: 0.0111 - accuracy: 0.9971\n",
      "Epoch 10/10\n",
      "24/24 [==============================] - 10s 429ms/step - loss: 0.0115 - accuracy: 0.9972\n"
     ]
    },
    {
     "data": {
      "text/plain": [
       "<keras.callbacks.History at 0x294821b6bb0>"
      ]
     },
     "execution_count": 36,
     "metadata": {},
     "output_type": "execute_result"
    }
   ],
   "source": [
    "model.fit_generator(x_train, steps_per_epoch=24, epochs=10, validation_data=x_test, validation_steps=40)\n",
    "#steps_per_epoch = no. of train images//batch size"
   ]
  },
  {
   "cell_type": "markdown",
   "id": "e8baf60a",
   "metadata": {},
   "source": [
    "model.save('aslpng1.h5)"
   ]
  },
  {
   "cell_type": "code",
   "execution_count": null,
   "id": "3320d636",
   "metadata": {},
   "outputs": [],
   "source": []
  }
 ],
 "metadata": {
  "kernelspec": {
   "display_name": "Python 3 (ipykernel)",
   "language": "python",
   "name": "python3"
  },
  "language_info": {
   "codemirror_mode": {
    "name": "ipython",
    "version": 3
   },
   "file_extension": ".py",
   "mimetype": "text/x-python",
   "name": "python",
   "nbconvert_exporter": "python",
   "pygments_lexer": "ipython3",
   "version": "3.9.12"
  }
 },
 "nbformat": 4,
 "nbformat_minor": 5
}
